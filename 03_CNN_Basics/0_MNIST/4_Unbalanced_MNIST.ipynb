{
 "cells": [
  {
   "cell_type": "code",
   "execution_count": 1,
   "metadata": {},
   "outputs": [],
   "source": [
    "import numpy as np\n",
    "import torch\n",
    "import torch.nn as nn\n",
    "import torch.optim as optim\n",
    "import torch.nn.init as init\n",
    "import torchvision.datasets as dset\n",
    "import torchvision.transforms as transforms\n",
    "from torch.utils.data import DataLoader\n",
    "from torch.autograd import Variable\n",
    "import matplotlib.pyplot as plt\n",
    "\n",
    "%matplotlib inline"
   ]
  },
  {
   "cell_type": "code",
   "execution_count": 2,
   "metadata": {
    "collapsed": true
   },
   "outputs": [],
   "source": [
    "batch_size = 16\n",
    "learning_rate = 0.0002\n",
    "num_epoch = 10"
   ]
  },
  {
   "cell_type": "code",
   "execution_count": 3,
   "metadata": {},
   "outputs": [],
   "source": [
    "mnist_train = dset.MNIST(\"./\", train=True, transform=transforms.ToTensor(), target_transform=None, download=True)\n",
    "mnist_test = dset.MNIST(\"./\", train=False, transform=transforms.ToTensor(), target_transform=None, download=True)"
   ]
  },
  {
   "cell_type": "code",
   "execution_count": 4,
   "metadata": {},
   "outputs": [
    {
     "name": "stdout",
     "output_type": "stream",
     "text": [
      "torch.Size([1, 28, 28]) 60000\n",
      "[0, 0, 0, 0, 0, 0, 0, 0, 0, 0]\n",
      "[5923, 6742, 5958, 6131, 5842, 5421, 5918, 6265, 5851, 5949]\n"
     ]
    }
   ],
   "source": [
    "print(mnist_train.__getitem__(0)[0].size(), mnist_train.__len__())\n",
    "mnist_test.__getitem__(0)[0].size(), mnist_test.__len__()\n",
    "\n",
    "# 각 라벨별로 몇개의 데이터가 있는지 살펴보는 부분입니다.\n",
    "count=[0]*10\n",
    "print(count)\n",
    "for i in range(mnist_train.__len__()):\n",
    "    count[mnist_train.__getitem__(i)[1]]+=1\n",
    "\n",
    "print(count)"
   ]
  },
  {
   "cell_type": "code",
   "execution_count": 5,
   "metadata": {
    "scrolled": true
   },
   "outputs": [
    {
     "name": "stdout",
     "output_type": "stream",
     "text": [
      "{'root': './', 'transform': <torchvision.transforms.transforms.ToTensor object at 0x7fe8c5e00a20>, 'target_transform': None, 'train': True, 'train_data': \n",
      "(  0  ,.,.) = \n",
      "    0    0    0  ...     0    0    0\n",
      "    0    0    0  ...     0    0    0\n",
      "    0    0    0  ...     0    0    0\n",
      "      ...         ⋱        ...      \n",
      "    0    0    0  ...     0    0    0\n",
      "    0    0    0  ...     0    0    0\n",
      "    0    0    0  ...     0    0    0\n",
      "\n",
      "(  1  ,.,.) = \n",
      "    0    0    0  ...     0    0    0\n",
      "    0    0    0  ...     0    0    0\n",
      "    0    0    0  ...     0    0    0\n",
      "      ...         ⋱        ...      \n",
      "    0    0    0  ...     0    0    0\n",
      "    0    0    0  ...     0    0    0\n",
      "    0    0    0  ...     0    0    0\n",
      "\n",
      "(  2  ,.,.) = \n",
      "    0    0    0  ...     0    0    0\n",
      "    0    0    0  ...     0    0    0\n",
      "    0    0    0  ...     0    0    0\n",
      "      ...         ⋱        ...      \n",
      "    0    0    0  ...     0    0    0\n",
      "    0    0    0  ...     0    0    0\n",
      "    0    0    0  ...     0    0    0\n",
      " ...  \n",
      "\n",
      "(59997,.,.) = \n",
      "    0    0    0  ...     0    0    0\n",
      "    0    0    0  ...     0    0    0\n",
      "    0    0    0  ...     0    0    0\n",
      "      ...         ⋱        ...      \n",
      "    0    0    0  ...     0    0    0\n",
      "    0    0    0  ...     0    0    0\n",
      "    0    0    0  ...     0    0    0\n",
      "\n",
      "(59998,.,.) = \n",
      "    0    0    0  ...     0    0    0\n",
      "    0    0    0  ...     0    0    0\n",
      "    0    0    0  ...     0    0    0\n",
      "      ...         ⋱        ...      \n",
      "    0    0    0  ...     0    0    0\n",
      "    0    0    0  ...     0    0    0\n",
      "    0    0    0  ...     0    0    0\n",
      "\n",
      "(59999,.,.) = \n",
      "    0    0    0  ...     0    0    0\n",
      "    0    0    0  ...     0    0    0\n",
      "    0    0    0  ...     0    0    0\n",
      "      ...         ⋱        ...      \n",
      "    0    0    0  ...     0    0    0\n",
      "    0    0    0  ...     0    0    0\n",
      "    0    0    0  ...     0    0    0\n",
      "[torch.ByteTensor of size 60000x28x28]\n",
      ", 'train_labels': \n",
      " 5\n",
      " 0\n",
      " 4\n",
      "⋮ \n",
      " 5\n",
      " 6\n",
      " 8\n",
      "[torch.LongTensor of size 60000]\n",
      "}\n"
     ]
    }
   ],
   "source": [
    "dir(mnist_train) # 사용가능한 함수들\n",
    "print(mnist_train.__dict__) "
   ]
  },
  {
   "cell_type": "code",
   "execution_count": 6,
   "metadata": {},
   "outputs": [
    {
     "data": {
      "text/plain": [
       "\n",
       "(  0  ,.,.) = \n",
       "    0    0    0  ...     0    0    0\n",
       "    0    0    0  ...     0    0    0\n",
       "    0    0    0  ...     0    0    0\n",
       "      ...         ⋱        ...      \n",
       "    0    0    0  ...     0    0    0\n",
       "    0    0    0  ...     0    0    0\n",
       "    0    0    0  ...     0    0    0\n",
       "\n",
       "(  1  ,.,.) = \n",
       "    0    0    0  ...     0    0    0\n",
       "    0    0    0  ...     0    0    0\n",
       "    0    0    0  ...     0    0    0\n",
       "      ...         ⋱        ...      \n",
       "    0    0    0  ...     0    0    0\n",
       "    0    0    0  ...     0    0    0\n",
       "    0    0    0  ...     0    0    0\n",
       "\n",
       "(  2  ,.,.) = \n",
       "    0    0    0  ...     0    0    0\n",
       "    0    0    0  ...     0    0    0\n",
       "    0    0    0  ...     0    0    0\n",
       "      ...         ⋱        ...      \n",
       "    0    0    0  ...     0    0    0\n",
       "    0    0    0  ...     0    0    0\n",
       "    0    0    0  ...     0    0    0\n",
       " ...  \n",
       "\n",
       "(59997,.,.) = \n",
       "    0    0    0  ...     0    0    0\n",
       "    0    0    0  ...     0    0    0\n",
       "    0    0    0  ...     0    0    0\n",
       "      ...         ⋱        ...      \n",
       "    0    0    0  ...     0    0    0\n",
       "    0    0    0  ...     0    0    0\n",
       "    0    0    0  ...     0    0    0\n",
       "\n",
       "(59998,.,.) = \n",
       "    0    0    0  ...     0    0    0\n",
       "    0    0    0  ...     0    0    0\n",
       "    0    0    0  ...     0    0    0\n",
       "      ...         ⋱        ...      \n",
       "    0    0    0  ...     0    0    0\n",
       "    0    0    0  ...     0    0    0\n",
       "    0    0    0  ...     0    0    0\n",
       "\n",
       "(59999,.,.) = \n",
       "    0    0    0  ...     0    0    0\n",
       "    0    0    0  ...     0    0    0\n",
       "    0    0    0  ...     0    0    0\n",
       "      ...         ⋱        ...      \n",
       "    0    0    0  ...     0    0    0\n",
       "    0    0    0  ...     0    0    0\n",
       "    0    0    0  ...     0    0    0\n",
       "[torch.ByteTensor of size 60000x28x28]"
      ]
     },
     "execution_count": 6,
     "metadata": {},
     "output_type": "execute_result"
    }
   ],
   "source": [
    "only_data = mnist_train.__dict__['train_data']\n",
    "only_data"
   ]
  },
  {
   "cell_type": "code",
   "execution_count": 7,
   "metadata": {},
   "outputs": [
    {
     "name": "stdout",
     "output_type": "stream",
     "text": [
      "5923 6742 12665\n",
      "\n",
      "     1\n",
      "    21\n",
      "    34\n",
      "  ⋮   \n",
      " 59952\n",
      " 59972\n",
      " 59987\n",
      "[torch.LongTensor of size 5923]\n",
      "\n",
      "\n",
      "     1\n",
      "     3\n",
      "     6\n",
      "  ⋮   \n",
      " 59984\n",
      " 59987\n",
      " 59994\n",
      "[torch.LongTensor of size 12665]\n",
      "\n"
     ]
    }
   ],
   "source": [
    "only_label = mnist_train.__dict__['train_labels']\n",
    "\n",
    "idx_0 = (only_label==0) # 라벨이 0인 위치에만 1이 찍힌 텐서\n",
    "idx_1 = (only_label==1) # 라벨이 1인 위치에만 1이 찍힌 텐서\n",
    "\n",
    "#print(idx_0,idx_1,idx_0+idx_1) # 두개를 더하면 0,1의 위치에 1이 찍힌 텐서가 나옵니다.\n",
    "print(torch.sum(idx_0),torch.sum(idx_1),torch.sum(idx_0+idx_1)) # 아까 확인해본 개수와 일치하는지 확인\n",
    "\n",
    "print(idx_0.nonzero()[:,0]) # 0 이 아닌곳의 index 값을 리턴해주는 부분\n",
    "new_idx= (idx_0+idx_1).nonzero()[:,0]\n",
    "print(new_idx)"
   ]
  },
  {
   "cell_type": "code",
   "execution_count": 8,
   "metadata": {},
   "outputs": [
    {
     "name": "stdout",
     "output_type": "stream",
     "text": [
      "\n",
      "(  0  ,.,.) = \n",
      "    0    0    0  ...     0    0    0\n",
      "    0    0    0  ...     0    0    0\n",
      "    0    0    0  ...     0    0    0\n",
      "      ...         ⋱        ...      \n",
      "    0    0    0  ...     0    0    0\n",
      "    0    0    0  ...     0    0    0\n",
      "    0    0    0  ...     0    0    0\n",
      "\n",
      "(  1  ,.,.) = \n",
      "    0    0    0  ...     0    0    0\n",
      "    0    0    0  ...     0    0    0\n",
      "    0    0    0  ...     0    0    0\n",
      "      ...         ⋱        ...      \n",
      "    0    0    0  ...     0    0    0\n",
      "    0    0    0  ...     0    0    0\n",
      "    0    0    0  ...     0    0    0\n",
      "\n",
      "(  2  ,.,.) = \n",
      "    0    0    0  ...     0    0    0\n",
      "    0    0    0  ...     0    0    0\n",
      "    0    0    0  ...     0    0    0\n",
      "      ...         ⋱        ...      \n",
      "    0    0    0  ...     0    0    0\n",
      "    0    0    0  ...     0    0    0\n",
      "    0    0    0  ...     0    0    0\n",
      " ...  \n",
      "\n",
      "(12662,.,.) = \n",
      "    0    0    0  ...     0    0    0\n",
      "    0    0    0  ...     0    0    0\n",
      "    0    0    0  ...     0    0    0\n",
      "      ...         ⋱        ...      \n",
      "    0    0    0  ...     0    0    0\n",
      "    0    0    0  ...     0    0    0\n",
      "    0    0    0  ...     0    0    0\n",
      "\n",
      "(12663,.,.) = \n",
      "    0    0    0  ...     0    0    0\n",
      "    0    0    0  ...     0    0    0\n",
      "    0    0    0  ...     0    0    0\n",
      "      ...         ⋱        ...      \n",
      "    0    0    0  ...     0    0    0\n",
      "    0    0    0  ...     0    0    0\n",
      "    0    0    0  ...     0    0    0\n",
      "\n",
      "(12664,.,.) = \n",
      "    0    0    0  ...     0    0    0\n",
      "    0    0    0  ...     0    0    0\n",
      "    0    0    0  ...     0    0    0\n",
      "      ...         ⋱        ...      \n",
      "    0    0    0  ...     0    0    0\n",
      "    0    0    0  ...     0    0    0\n",
      "    0    0    0  ...     0    0    0\n",
      "[torch.ByteTensor of size 12665x28x28]\n",
      " \n",
      " 0\n",
      " 1\n",
      " 1\n",
      "⋮ \n",
      " 1\n",
      " 0\n",
      " 1\n",
      "[torch.LongTensor of size 12665]\n",
      "\n"
     ]
    }
   ],
   "source": [
    "new_data  = torch.index_select(only_data,0,new_idx)  # 원본데이터,어느 차원기준으로 인덱싱을 적용할것인지, 인덱스\n",
    "new_label = torch.index_select(only_label,0,new_idx)\n",
    "\n",
    "print(new_data,new_label)"
   ]
  },
  {
   "cell_type": "code",
   "execution_count": 9,
   "metadata": {},
   "outputs": [
    {
     "data": {
      "text/plain": [
       "\n",
       "(  0  ,.,.) = \n",
       "    0    0    0  ...     0    0    0\n",
       "    0    0    0  ...     0    0    0\n",
       "    0    0    0  ...     0    0    0\n",
       "      ...         ⋱        ...      \n",
       "    0    0    0  ...     0    0    0\n",
       "    0    0    0  ...     0    0    0\n",
       "    0    0    0  ...     0    0    0\n",
       "\n",
       "(  1  ,.,.) = \n",
       "    0    0    0  ...     0    0    0\n",
       "    0    0    0  ...     0    0    0\n",
       "    0    0    0  ...     0    0    0\n",
       "      ...         ⋱        ...      \n",
       "    0    0    0  ...     0    0    0\n",
       "    0    0    0  ...     0    0    0\n",
       "    0    0    0  ...     0    0    0\n",
       "\n",
       "(  2  ,.,.) = \n",
       "    0    0    0  ...     0    0    0\n",
       "    0    0    0  ...     0    0    0\n",
       "    0    0    0  ...     0    0    0\n",
       "      ...         ⋱        ...      \n",
       "    0    0    0  ...     0    0    0\n",
       "    0    0    0  ...     0    0    0\n",
       "    0    0    0  ...     0    0    0\n",
       " ...  \n",
       "\n",
       "(12662,.,.) = \n",
       "    0    0    0  ...     0    0    0\n",
       "    0    0    0  ...     0    0    0\n",
       "    0    0    0  ...     0    0    0\n",
       "      ...         ⋱        ...      \n",
       "    0    0    0  ...     0    0    0\n",
       "    0    0    0  ...     0    0    0\n",
       "    0    0    0  ...     0    0    0\n",
       "\n",
       "(12663,.,.) = \n",
       "    0    0    0  ...     0    0    0\n",
       "    0    0    0  ...     0    0    0\n",
       "    0    0    0  ...     0    0    0\n",
       "      ...         ⋱        ...      \n",
       "    0    0    0  ...     0    0    0\n",
       "    0    0    0  ...     0    0    0\n",
       "    0    0    0  ...     0    0    0\n",
       "\n",
       "(12664,.,.) = \n",
       "    0    0    0  ...     0    0    0\n",
       "    0    0    0  ...     0    0    0\n",
       "    0    0    0  ...     0    0    0\n",
       "      ...         ⋱        ...      \n",
       "    0    0    0  ...     0    0    0\n",
       "    0    0    0  ...     0    0    0\n",
       "    0    0    0  ...     0    0    0\n",
       "[torch.ByteTensor of size 12665x28x28]"
      ]
     },
     "execution_count": 9,
     "metadata": {},
     "output_type": "execute_result"
    }
   ],
   "source": [
    "# 새로운 데이터로 대체\n",
    "mnist_train.__dict__['train_data'] = new_data\n",
    "mnist_train.__dict__['train_data']"
   ]
  },
  {
   "cell_type": "code",
   "execution_count": 10,
   "metadata": {},
   "outputs": [
    {
     "data": {
      "text/plain": [
       "\n",
       " 0\n",
       " 1\n",
       " 1\n",
       "⋮ \n",
       " 1\n",
       " 0\n",
       " 1\n",
       "[torch.LongTensor of size 12665]"
      ]
     },
     "execution_count": 10,
     "metadata": {},
     "output_type": "execute_result"
    }
   ],
   "source": [
    "# 새로운 라벨로 대체\n",
    "mnist_train.__dict__['train_labels'] = new_label\n",
    "mnist_train.__dict__['train_labels']"
   ]
  },
  {
   "cell_type": "code",
   "execution_count": 11,
   "metadata": {
    "collapsed": true
   },
   "outputs": [],
   "source": [
    "train_loader = torch.utils.data.DataLoader(mnist_train,\n",
    "                                           batch_size=batch_size, \n",
    "                                           shuffle=True,\n",
    "                                           num_workers=2,\n",
    "                                           drop_last=True)"
   ]
  },
  {
   "cell_type": "code",
   "execution_count": 12,
   "metadata": {
    "scrolled": false
   },
   "outputs": [
    {
     "data": {
      "image/png": "[encoded data removed]",
      "text/plain": [
       "<matplotlib.figure.Figure at 0x7fe8c5e38128>"
      ]
     },
     "metadata": {},
     "output_type": "display_data"
    },
    {
     "name": "stdout",
     "output_type": "stream",
     "text": [
      "1\n"
     ]
    },
    {
     "data": {
      "image/png": "[encoded data removed]",
      "text/plain": [
       "<matplotlib.figure.Figure at 0x7fe8c202b748>"
      ]
     },
     "metadata": {},
     "output_type": "display_data"
    },
    {
     "name": "stdout",
     "output_type": "stream",
     "text": [
      "1\n"
     ]
    },
    {
     "data": {
      "image/png": "[encoded data removed]",
      "text/plain": [
       "<matplotlib.figure.Figure at 0x7fe8bba23978>"
      ]
     },
     "metadata": {},
     "output_type": "display_data"
    },
    {
     "name": "stdout",
     "output_type": "stream",
     "text": [
      "1\n"
     ]
    },
    {
     "data": {
      "image/png": "[encoded data removed]",
      "text/plain": [
       "<matplotlib.figure.Figure at 0x7fe8bbabca90>"
      ]
     },
     "metadata": {},
     "output_type": "display_data"
    },
    {
     "name": "stdout",
     "output_type": "stream",
     "text": [
      "0\n"
     ]
    },
    {
     "data": {
      "image/png": "[encoded data removed]",
      "text/plain": [
       "<matplotlib.figure.Figure at 0x7fe8bb9cee80>"
      ]
     },
     "metadata": {},
     "output_type": "display_data"
    },
    {
     "name": "stdout",
     "output_type": "stream",
     "text": [
      "1\n"
     ]
    },
    {
     "data": {
      "image/png": "[encoded data removed]",
      "text/plain": [
       "<matplotlib.figure.Figure at 0x7fe8bb94ec88>"
      ]
     },
     "metadata": {},
     "output_type": "display_data"
    },
    {
     "name": "stdout",
     "output_type": "stream",
     "text": [
      "0\n"
     ]
    },
    {
     "data": {
      "image/png": "[encoded data removed]",
      "text/plain": [
       "<matplotlib.figure.Figure at 0x7fe8bb9f1e80>"
      ]
     },
     "metadata": {},
     "output_type": "display_data"
    },
    {
     "name": "stdout",
     "output_type": "stream",
     "text": [
      "0\n"
     ]
    },
    {
     "data": {
      "image/png": "[encoded data removed]",
      "text/plain": [
       "<matplotlib.figure.Figure at 0x7fe8bb85bda0>"
      ]
     },
     "metadata": {},
     "output_type": "display_data"
    },
    {
     "name": "stdout",
     "output_type": "stream",
     "text": [
      "0\n"
     ]
    },
    {
     "data": {
      "image/png": "[encoded data removed]",
      "text/plain": [
       "<matplotlib.figure.Figure at 0x7fe8bb771e48>"
      ]
     },
     "metadata": {},
     "output_type": "display_data"
    },
    {
     "name": "stdout",
     "output_type": "stream",
     "text": [
      "0\n"
     ]
    },
    {
     "data": {
      "image/png": "[encoded data removed]",
      "text/plain": [
       "<matplotlib.figure.Figure at 0x7fe8bb715da0>"
      ]
     },
     "metadata": {},
     "output_type": "display_data"
    },
    {
     "name": "stdout",
     "output_type": "stream",
     "text": [
      "1\n"
     ]
    },
    {
     "data": {
      "image/png": "[encoded data removed]",
      "text/plain": [
       "<matplotlib.figure.Figure at 0x7fe8bb68ea20>"
      ]
     },
     "metadata": {},
     "output_type": "display_data"
    },
    {
     "name": "stdout",
     "output_type": "stream",
     "text": [
      "0\n"
     ]
    },
    {
     "data": {
      "image/png": "[encoded data removed]",
      "text/plain": [
       "<matplotlib.figure.Figure at 0x7fe8bb5c2b38>"
      ]
     },
     "metadata": {},
     "output_type": "display_data"
    },
    {
     "name": "stdout",
     "output_type": "stream",
     "text": [
      "0\n"
     ]
    },
    {
     "data": {
      "image/png": "[encoded data removed]",
      "text/plain": [
       "<matplotlib.figure.Figure at 0x7fe8bb54f860>"
      ]
     },
     "metadata": {},
     "output_type": "display_data"
    },
    {
     "name": "stdout",
     "output_type": "stream",
     "text": [
      "1\n"
     ]
    },
    {
     "data": {
      "image/png": "[encoded data removed]",
      "text/plain": [
       "<matplotlib.figure.Figure at 0x7fe8bb467978>"
      ]
     },
     "metadata": {},
     "output_type": "display_data"
    },
    {
     "name": "stdout",
     "output_type": "stream",
     "text": [
      "1\n"
     ]
    },
    {
     "data": {
      "image/png": "[encoded data removed]",
      "text/plain": [
       "<matplotlib.figure.Figure at 0x7fe8bb56bd68>"
      ]
     },
     "metadata": {},
     "output_type": "display_data"
    },
    {
     "name": "stdout",
     "output_type": "stream",
     "text": [
      "0\n"
     ]
    },
    {
     "data": {
      "image/png": "[encoded data removed]",
      "text/plain": [
       "<matplotlib.figure.Figure at 0x7fe8bb6d8f28>"
      ]
     },
     "metadata": {},
     "output_type": "display_data"
    },
    {
     "name": "stdout",
     "output_type": "stream",
     "text": [
      "1\n"
     ]
    }
   ],
   "source": [
    "for image,label in train_loader:\n",
    "    img = image.numpy()\n",
    "    for i in range(batch_size):\n",
    "        plt.imshow(img[i,0,:,:],cmap='gray')\n",
    "        plt.show()\n",
    "        print(label[i])\n",
    "    break"
   ]
  },
  {
   "cell_type": "code",
   "execution_count": null,
   "metadata": {
    "collapsed": true
   },
   "outputs": [],
   "source": []
  }
 ],
 "metadata": {
  "kernelspec": {
   "display_name": "Python [default]",
   "language": "python",
   "name": "python3"
  },
  "language_info": {
   "codemirror_mode": {
    "name": "ipython",
    "version": 3
   },
   "file_extension": ".py",
   "mimetype": "text/x-python",
   "name": "python",
   "nbconvert_exporter": "python",
   "pygments_lexer": "ipython3",
   "version": "3.6.2"
  }
 },
 "nbformat": 4,
 "nbformat_minor": 1
}
