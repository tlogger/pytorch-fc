{
 "cells": [
  {
   "cell_type": "code",
   "execution_count": 1,
   "metadata": {},
   "outputs": [],
   "source": [
    "import torch\n",
    "import torch.nn as nn\n",
    "from torch.autograd import Variable, Function"
   ]
  },
  {
   "cell_type": "code",
   "execution_count": 2,
   "metadata": {},
   "outputs": [
    {
     "name": "stdout",
     "output_type": "stream",
     "text": [
      "__module__\n",
      "__doc__\n",
      "__call__\n",
      "forward\n",
      "backward\n",
      "__dict__\n",
      "__weakref__\n",
      "_is_legacy\n",
      "_backward_cls\n"
     ]
    }
   ],
   "source": [
    "for i in Function.__dict__:\n",
    "    print(i) # Function.__dict__[i]"
   ]
  },
  {
   "cell_type": "code",
   "execution_count": 3,
   "metadata": {},
   "outputs": [
    {
     "name": "stdout",
     "output_type": "stream",
     "text": [
      "<built-in method apply of FunctionMeta object at 0x1aa3d58>\n"
     ]
    }
   ],
   "source": [
    "class Exp(Function):\n",
    "    @staticmethod\n",
    "    def forward(ctx, i):\n",
    "        result = i.exp()\n",
    "        ctx.save_for_backward(result)\n",
    "        return result\n",
    "\n",
    "    @staticmethod\n",
    "    def backward(ctx, grad_output):\n",
    "        result, = ctx.saved_variables\n",
    "        return grad_output * result\n",
    "\n",
    "layer = Exp().apply\n",
    "print(layer)"
   ]
  },
  {
   "cell_type": "code",
   "execution_count": 4,
   "metadata": {},
   "outputs": [
    {
     "name": "stdout",
     "output_type": "stream",
     "text": [
      "Variable containing:\n",
      " 2.7183\n",
      " 7.3891\n",
      "[torch.FloatTensor of size 2]\n",
      "\n",
      "Variable containing:\n",
      " 10.1073\n",
      "[torch.FloatTensor of size 1]\n",
      "\n",
      "None\n",
      "Variable containing:\n",
      " 2.7183\n",
      " 7.3891\n",
      "[torch.FloatTensor of size 2]\n",
      "\n"
     ]
    }
   ],
   "source": [
    "a = Variable(torch.Tensor([1,2]),requires_grad=True)\n",
    "output = layer(a)\n",
    "print(output)\n",
    "result = torch.sum(output)\n",
    "print(result)\n",
    "\n",
    "print(a.grad)\n",
    "result.backward()\n",
    "print(a.grad)"
   ]
  }
 ],
 "metadata": {
  "kernelspec": {
   "display_name": "Python 3",
   "language": "python",
   "name": "python3"
  },
  "language_info": {
   "codemirror_mode": {
    "name": "ipython",
    "version": 3
   },
   "file_extension": ".py",
   "mimetype": "text/x-python",
   "name": "python",
   "nbconvert_exporter": "python",
   "pygments_lexer": "ipython3",
   "version": "3.6.2"
  }
 },
 "nbformat": 4,
 "nbformat_minor": 2
}
