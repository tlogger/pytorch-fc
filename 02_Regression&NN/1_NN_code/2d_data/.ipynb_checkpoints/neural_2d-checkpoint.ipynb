{
 "cells": [
  {
   "cell_type": "markdown",
   "metadata": {},
   "source": [
    "# Neural Network with 2D Data\n",
    "- Neural Network with 4 layers\n",
    "- 2D data f(x,y) -> R"
   ]
  },
  {
   "cell_type": "markdown",
   "metadata": {},
   "source": [
    "## 1.Import Required Libraries"
   ]
  },
  {
   "cell_type": "code",
   "execution_count": 1,
   "metadata": {
    "collapsed": true
   },
   "outputs": [],
   "source": [
    "import numpy as np\n",
    "import torch\n",
    "import torch.nn as nn\n",
    "import torch.optim as optim\n",
    "import torch.nn.init as init\n",
    "from torch.autograd import Variable\n",
    "from visdom import Visdom\n",
    "viz = Visdom()"
   ]
  },
  {
   "cell_type": "markdown",
   "metadata": {},
   "source": [
    "## 2. Data Generation"
   ]
  },
  {
   "cell_type": "code",
   "execution_count": 2,
   "metadata": {},
   "outputs": [],
   "source": [
    "num_data=1000\n",
    "num_epoch=10000\n",
    "\n",
    "x = init.uniform(torch.Tensor(num_data,1),-10,10)\n",
    "y = init.uniform(torch.Tensor(num_data,1),-10,10)\n",
    "z = x**2 + y**2\n",
    "\n",
    "x_noise = x + init.normal(torch.FloatTensor(num_data,1),std=0.5)\n",
    "y_noise = y + init.normal(torch.FloatTensor(num_data,1),std=0.5)\n",
    "z_noise = x_noise**2 + y_noise**2\n",
    "\n",
    "data_noise = torch.cat([x,y,z_noise],1)"
   ]
  },
  {
   "cell_type": "code",
   "execution_count": 3,
   "metadata": {
    "collapsed": true
   },
   "outputs": [],
   "source": [
    "# data visualization\n",
    "\n",
    "win_1=viz.scatter(\n",
    "        X=data_noise,\n",
    "        opts=dict(\n",
    "            markersize=5,\n",
    "            markercolor=np.ndarray(shape=[num_data,3],dtype=float,buffer=[51,153,255]*np.ones(shape=[num_data,3]))\n",
    "            )\n",
    "        )"
   ]
  },
  {
   "cell_type": "markdown",
   "metadata": {},
   "source": [
    "## 3. Model & Optimizer"
   ]
  },
  {
   "cell_type": "code",
   "execution_count": 4,
   "metadata": {},
   "outputs": [],
   "source": [
    "model = nn.Sequential(\n",
    "            nn.Linear(2,20),\n",
    "            nn.ReLU(),\n",
    "            nn.Linear(20,10),\n",
    "            nn.ReLU(),\n",
    "            nn.Linear(10,5),\n",
    "            nn.ReLU(),\n",
    "            nn.Linear(5,5),\n",
    "            nn.ReLU(),\n",
    "            nn.Linear(5,1),\n",
    "        ).cuda()\n",
    "\n",
    "loss_func = nn.L1Loss()\n",
    "optimizer = optim.SGD(model.parameters(),lr=0.001)"
   ]
  },
  {
   "cell_type": "markdown",
   "metadata": {},
   "source": [
    "## 4. Train "
   ]
  },
  {
   "cell_type": "code",
   "execution_count": 5,
   "metadata": {
    "scrolled": true
   },
   "outputs": [
    {
     "name": "stdout",
     "output_type": "stream",
     "text": [
      "Variable containing:\n",
      " 69.0430\n",
      "[torch.cuda.FloatTensor of size 1 (GPU 0)]\n",
      "\n",
      "Variable containing:\n",
      " 68.8464\n",
      "[torch.cuda.FloatTensor of size 1 (GPU 0)]\n",
      "\n",
      "Variable containing:\n",
      " 68.6517\n",
      "[torch.cuda.FloatTensor of size 1 (GPU 0)]\n",
      "\n",
      "Variable containing:\n",
      " 68.4474\n",
      "[torch.cuda.FloatTensor of size 1 (GPU 0)]\n",
      "\n",
      "Variable containing:\n",
      " 68.2139\n",
      "[torch.cuda.FloatTensor of size 1 (GPU 0)]\n",
      "\n",
      "Variable containing:\n",
      " 67.9224\n",
      "[torch.cuda.FloatTensor of size 1 (GPU 0)]\n",
      "\n",
      "Variable containing:\n",
      " 67.5033\n",
      "[torch.cuda.FloatTensor of size 1 (GPU 0)]\n",
      "\n",
      "Variable containing:\n",
      " 66.6964\n",
      "[torch.cuda.FloatTensor of size 1 (GPU 0)]\n",
      "\n",
      "Variable containing:\n",
      " 63.3444\n",
      "[torch.cuda.FloatTensor of size 1 (GPU 0)]\n",
      "\n",
      "Variable containing:\n",
      " 20.5148\n",
      "[torch.cuda.FloatTensor of size 1 (GPU 0)]\n",
      "\n"
     ]
    }
   ],
   "source": [
    "input_data = torch.cat([x,y],1).cuda()\n",
    "label = z_noise.cuda()\n",
    "loss_arr =[]\n",
    "\n",
    "for i in range(num_epoch):\n",
    "    optimizer.zero_grad()\n",
    "    output = model(Variable(input_data))\n",
    "    loss = loss_func(output,Variable(label))\n",
    "    loss.backward()\n",
    "    optimizer.step()\n",
    "    \n",
    "    loss_arr.append(loss.cpu().data.numpy()[0])\n",
    "    \n",
    "    if i % 100 == 0 and i <1000:\n",
    "        print(loss)\n",
    "        data = torch.cat([input_data.cpu(),output.cpu().data],1)\n",
    "\n",
    "        win_2 =viz.scatter(\n",
    "                X=data,\n",
    "                opts=dict(\n",
    "                markersize=5,\n",
    "                markercolor=np.ndarray(shape=[num_data,3],dtype=float,buffer=128*np.ones(shape=[num_data,3]))\n",
    "            )\n",
    "    )"
   ]
  },
  {
   "cell_type": "code",
   "execution_count": 6,
   "metadata": {},
   "outputs": [
    {
     "name": "stdout",
     "output_type": "stream",
     "text": [
      "[Parameter containing:\n",
      "-0.4530  0.2461\n",
      "-0.3858 -0.2844\n",
      "-0.5950 -0.1160\n",
      "-0.1326  0.2427\n",
      "-0.3330 -0.6503\n",
      " 0.2060  0.6328\n",
      "-0.1773  0.4205\n",
      "-0.5313  0.3084\n",
      "-0.1758 -0.0771\n",
      " 0.2645 -0.5284\n",
      " 0.6727  0.1758\n",
      " 0.1049  0.2456\n",
      "-0.4514 -0.2702\n",
      " 0.0603 -0.2555\n",
      " 0.8012 -0.3517\n",
      "-0.0105  0.3784\n",
      "-0.2709  0.4650\n",
      " 0.4298 -0.3924\n",
      "-0.4597 -0.0178\n",
      "-0.3798  0.2794\n",
      "[torch.cuda.FloatTensor of size 20x2 (GPU 0)]\n",
      ", Parameter containing:\n",
      "-0.4310\n",
      "-0.2486\n",
      " 0.2048\n",
      " 0.6731\n",
      "-0.8488\n",
      "-0.1724\n",
      "-1.1055\n",
      "-0.6170\n",
      "-0.8405\n",
      "-0.8281\n",
      "-0.3699\n",
      "-0.7620\n",
      "-0.2536\n",
      "-1.1691\n",
      "-0.6261\n",
      " 0.0121\n",
      "-0.6139\n",
      " 0.3673\n",
      "-0.5494\n",
      " 0.7542\n",
      "[torch.cuda.FloatTensor of size 20 (GPU 0)]\n",
      ", Parameter containing:\n",
      "\n",
      "Columns 0 to 9 \n",
      "-0.0118  0.3301 -0.1171 -0.2150  0.3937  0.2970  0.0785 -0.0386  0.0737  0.4050\n",
      "-0.0330 -0.1035 -0.0323  0.0840 -0.0495  0.1074 -0.1851  0.0184  0.0398 -0.0065\n",
      " 0.3965 -0.0628 -0.0985 -0.0575  0.5367  0.3154  0.6034  0.2124  0.3133  0.3552\n",
      " 0.1103 -0.0261 -0.2522  0.1321 -0.1346  0.3151 -0.0538 -0.2339 -0.0861  0.1452\n",
      " 0.2505  0.1614 -0.0683 -0.3637  0.0335  0.0175  0.4575  0.4114  0.4510  0.4037\n",
      "-0.1079 -0.0472  0.0402 -0.1748  0.1112 -0.0585 -0.0084 -0.0348  0.0620  0.0217\n",
      "-0.0892 -0.1042 -0.1741 -0.0195 -0.0026 -0.1202  0.2008  0.0908  0.0510 -0.1377\n",
      "-0.0276  0.0835  0.3188 -0.1363  0.0107 -0.3040 -0.3048  0.0698 -0.0083  0.1749\n",
      "-0.0600  0.1830 -0.2068 -0.0278  0.2038  0.0680  0.0417 -0.2538  0.1722  0.1719\n",
      "-0.1470 -0.0241  0.0346  0.2077 -0.0543 -0.1911 -0.1371 -0.1906 -0.0420 -0.1015\n",
      "\n",
      "Columns 10 to 19 \n",
      " 0.1647  0.2262  0.2368  0.4942  0.4519  0.2916 -0.1245 -0.1568 -0.1418 -0.3663\n",
      "-0.2379 -0.0247 -0.1220  0.1580  0.1373 -0.1395  0.2050 -0.0354 -0.1145 -0.0662\n",
      " 0.1860  0.3028  0.2930  0.5830  0.2089  0.2823  0.3650 -0.1161  0.2613  0.1035\n",
      " 0.2191  0.0484 -0.0660 -0.0091  0.0200  0.0151 -0.0869  0.2141 -0.0728 -0.0922\n",
      " 0.4261  0.5425  0.0787  0.6813  0.3836 -0.0957  0.3116 -0.5486  0.1630 -0.3621\n",
      " 0.0205  0.1573 -0.1286  0.0931  0.2629 -0.0019  0.1292  0.2116 -0.0808 -0.0126\n",
      "-0.1406 -0.0022 -0.0313 -0.1807  0.0493 -0.0662 -0.0334 -0.0647  0.0479 -0.0016\n",
      "-0.0345 -0.1598  0.2599  0.2523 -0.0364 -0.2645  0.0758 -0.2457  0.1963 -0.0388\n",
      "-0.0729 -0.1754  0.0325 -0.1979 -0.2257  0.0052 -0.1233  0.1578 -0.1370 -0.1210\n",
      "-0.1478 -0.1102  0.2147  0.2029 -0.0714  0.0067  0.1354  0.0349 -0.0031 -0.0587\n",
      "[torch.cuda.FloatTensor of size 10x20 (GPU 0)]\n",
      ", Parameter containing:\n",
      "-0.2227\n",
      "-0.2089\n",
      "-0.8134\n",
      "-0.2447\n",
      "-1.6814\n",
      " 0.2883\n",
      " 0.2099\n",
      "-0.3391\n",
      "-0.1134\n",
      " 0.1518\n",
      "[torch.cuda.FloatTensor of size 10 (GPU 0)]\n",
      ", Parameter containing:\n",
      " 0.1036  0.1552  0.2739  0.0211  0.0481 -0.1176 -0.1290  0.0751 -0.2106 -0.0472\n",
      " 0.1715  0.2076  0.2522 -0.0895  0.7601 -0.3342  0.0809  0.3922  0.1397 -0.2508\n",
      " 0.2183 -0.2888 -0.2424 -0.3147 -0.0480 -0.1691  0.0238  0.0293 -0.1755 -0.0101\n",
      "-0.1787 -0.1193 -0.2841  0.1934  0.0137  0.1611  0.0247  0.2661  0.1743 -0.1675\n",
      " 0.9423 -0.2064  1.2189  0.4018  1.7470  0.1291 -0.1396  0.5560 -0.3270  0.0187\n",
      "[torch.cuda.FloatTensor of size 5x10 (GPU 0)]\n",
      ", Parameter containing:\n",
      "-0.2517\n",
      "-0.9944\n",
      "-0.1809\n",
      "-0.2803\n",
      "-0.0646\n",
      "[torch.cuda.FloatTensor of size 5 (GPU 0)]\n",
      ", Parameter containing:\n",
      " 0.4292  0.1422 -0.3835 -0.2611  0.3529\n",
      " 0.4116  0.4703 -0.3170  0.0656  0.1621\n",
      " 0.2719  1.2548 -0.0622  0.1593  2.0633\n",
      "-0.2057  0.0668  0.1906  0.0961  0.9897\n",
      " 0.4853  0.6281 -0.2954 -0.0876  0.6129\n",
      "[torch.cuda.FloatTensor of size 5x5 (GPU 0)]\n",
      ", Parameter containing:\n",
      "-0.1241\n",
      "-0.4571\n",
      " 0.6407\n",
      " 0.6262\n",
      " 0.2535\n",
      "[torch.cuda.FloatTensor of size 5 (GPU 0)]\n",
      ", Parameter containing:\n",
      " 0.3718  0.3319  2.4231  1.0304  0.8182\n",
      "[torch.cuda.FloatTensor of size 1x5 (GPU 0)]\n",
      ", Parameter containing:\n",
      " 0.3631\n",
      "[torch.cuda.FloatTensor of size 1 (GPU 0)]\n",
      "]\n"
     ]
    }
   ],
   "source": [
    "param_list = list(model.parameters())\n",
    "print(param_list)"
   ]
  },
  {
   "cell_type": "markdown",
   "metadata": {},
   "source": [
    "## 5. Visualize Trained Output"
   ]
  },
  {
   "cell_type": "code",
   "execution_count": 7,
   "metadata": {},
   "outputs": [],
   "source": [
    "data = torch.cat([input_data.cpu(),output.cpu().data],1)\n",
    "\n",
    "win_2 =viz.scatter(\n",
    "        X=data,\n",
    "        opts=dict(\n",
    "        markersize=5,\n",
    "        markercolor=np.ndarray(shape=[num_data,3],dtype=float,buffer=128*np.ones(shape=[num_data,3]))\n",
    "    )\n",
    ")"
   ]
  },
  {
   "cell_type": "markdown",
   "metadata": {},
   "source": [
    "## 6. Visualize Loss Graph"
   ]
  },
  {
   "cell_type": "code",
   "execution_count": 8,
   "metadata": {},
   "outputs": [],
   "source": [
    "x = np.reshape([i for i in range(num_epoch)],newshape=[num_epoch,1])\n",
    "loss_data = np.reshape(loss_arr,newshape=[num_epoch,1])\n",
    "\n",
    "win3=viz.line(\n",
    "    X = x,\n",
    "    Y = loss_data,\n",
    ")"
   ]
  }
 ],
 "metadata": {
  "kernelspec": {
   "display_name": "Python 3",
   "language": "python",
   "name": "python3"
  },
  "language_info": {
   "codemirror_mode": {
    "name": "ipython",
    "version": 3
   },
   "file_extension": ".py",
   "mimetype": "text/x-python",
   "name": "python",
   "nbconvert_exporter": "python",
   "pygments_lexer": "ipython3",
   "version": "3.6.2"
  }
 },
 "nbformat": 4,
 "nbformat_minor": 1
}
