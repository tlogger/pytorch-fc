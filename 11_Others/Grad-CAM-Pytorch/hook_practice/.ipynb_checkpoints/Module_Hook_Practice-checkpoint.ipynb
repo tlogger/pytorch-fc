{
 "cells": [
  {
   "cell_type": "markdown",
   "metadata": {},
   "source": [
    "# What is hook in Pytorch ? - Module\n",
    "\n",
    "\n",
    "![alt text](./asset/hook.jpeg)\n",
    "\n",
    "\n",
    "### Module\n",
    "\n",
    "- nn.Module.register_forward_hook \n",
    "- nn.Module.register_backward_hook         \n",
    "- nn.Module.register_forward_pre_hook \n",
    "\n",
    "http://pytorch.org/docs/0.3.1/nn.html?highlight=register#torch.nn.Module.register_forward_hook\n",
    "\n",
    "### 1) Import Required Libraries"
   ]
  },
  {
   "cell_type": "code",
   "execution_count": 1,
   "metadata": {
    "collapsed": true
   },
   "outputs": [],
   "source": [
    "import torch\n",
    "import torch.nn as nn\n",
    "from torch.autograd import Variable\n",
    "\n",
    "batch_size =3"
   ]
  },
  {
   "cell_type": "markdown",
   "metadata": {},
   "source": [
    "## 2) Define Class\n",
    "\n",
    "- Define Model\n",
    "- Set Weights to 1 & Bias to 0\n",
    "- Register Hooks\n",
    "- Define Hooks\n",
    "- Remove Hooks\n",
    "- Define Forward"
   ]
  },
  {
   "cell_type": "code",
   "execution_count": 2,
   "metadata": {
    "collapsed": true
   },
   "outputs": [],
   "source": [
    "class Linear(nn.Module):\n",
    "    def __init__(self,feature_list):\n",
    "        super(Linear,self).__init__()\n",
    "        self.feature_list = feature_list\n",
    "        self.layers = []\n",
    "        \n",
    "        # Define Layers\n",
    "        for i in range(len(feature_list)-1):\n",
    "            self.layers.append(nn.Linear(self.feature_list[i],self.feature_list[i+1]))\n",
    "        self.total = nn.ModuleList(self.layers)\n",
    "             \n",
    "        # Initialize Weights to 1 in order to check gradients easily.\n",
    "        for idx,m in enumerate(self.total):\n",
    "            if isinstance(m, nn.Linear):\n",
    "                m.weight.data.fill_(1)\n",
    "                m.bias.data.fill_(0)\n",
    "                \n",
    "            if idx==1:\n",
    "                self.h0 = m.register_forward_hook(self.forward_hook)\n",
    "                self.h1 = m.register_forward_pre_hook(self.forward_pre_hook)\n",
    "                self.h2 = m.register_backward_hook(self.backward_hook)\n",
    "                \n",
    "                \n",
    "    # hook(module, input, output) -> None            \n",
    "    def forward_hook(self,*args):\n",
    "        module,input,output = args[0],args[1],args[2]\n",
    "        print(\"\\n This is Forward Hook \\n\")\n",
    "        # This part is weird \n",
    "        for i in args:\n",
    "            print(type(i))\n",
    "            \n",
    "        \n",
    "    # hook(module, grad_input, grad_output)\n",
    "    def backward_hook(self,*args):\n",
    "        module, grad_input, grad_output = args[0],args[1],args[2]\n",
    "        print(\"\\n This is Backward Hook \\n\")\n",
    "        for i in args:\n",
    "            print(type(i))\n",
    "        \n",
    "    \n",
    "    # hook(module, input)\n",
    "    def forward_pre_hook(self,*args):\n",
    "        module, input = args[0],args[1]\n",
    "        print(\"\\n This is Forward Pre Hook \\n\")\n",
    "        for i in args:\n",
    "            print(type(i))\n",
    "        \n",
    "    \n",
    "    def remove_hook(self):\n",
    "        self.h0.remove()\n",
    "        self.h1.remove()\n",
    "        self.h2.remove()\n",
    "    \n",
    "    def forward(self,x):\n",
    "        out = x\n",
    "        for idx,layer in enumerate(self.total):\n",
    "            out = layer(out)\n",
    "        return out"
   ]
  },
  {
   "cell_type": "markdown",
   "metadata": {},
   "source": [
    "## 3) Create Instance & Check Model"
   ]
  },
  {
   "cell_type": "code",
   "execution_count": 3,
   "metadata": {},
   "outputs": [
    {
     "name": "stdout",
     "output_type": "stream",
     "text": [
      "Linear(\n",
      "  (total): ModuleList(\n",
      "    (0): Linear(in_features=1, out_features=2, bias=True)\n",
      "    (1): Linear(in_features=2, out_features=4, bias=True)\n",
      "    (2): Linear(in_features=4, out_features=8, bias=True)\n",
      "  )\n",
      ")\n"
     ]
    }
   ],
   "source": [
    "feature_list = [1,2,4,8]\n",
    "model = Linear(feature_list)\n",
    "print(model)"
   ]
  },
  {
   "cell_type": "markdown",
   "metadata": {},
   "source": [
    "## 4) Forward\n",
    "\n",
    "- Forward_Pre_Hook is called Before Forward\n",
    "- Farward_Hook is called After Forward"
   ]
  },
  {
   "cell_type": "code",
   "execution_count": 4,
   "metadata": {},
   "outputs": [
    {
     "name": "stdout",
     "output_type": "stream",
     "text": [
      "\n",
      " This is Forward Pre Hook \n",
      "\n",
      "<class 'torch.nn.modules.linear.Linear'>\n",
      "<class 'tuple'>\n",
      "\n",
      " This is Forward Hook \n",
      "\n",
      "<class 'torch.nn.modules.linear.Linear'>\n",
      "<class 'tuple'>\n",
      "<class 'torch.autograd.variable.Variable'>\n"
     ]
    }
   ],
   "source": [
    "x = Variable(torch.ones(batch_size,1),requires_grad=True)\n",
    "out = model(x)\n",
    "out = torch.sum(out)"
   ]
  },
  {
   "cell_type": "markdown",
   "metadata": {},
   "source": [
    "## 5) Backward\n",
    "\n",
    "- Backward Hook is called after calculating the gradients"
   ]
  },
  {
   "cell_type": "code",
   "execution_count": 5,
   "metadata": {},
   "outputs": [
    {
     "name": "stdout",
     "output_type": "stream",
     "text": [
      "\n",
      " This is Backward Hook \n",
      "\n",
      "<class 'torch.nn.modules.linear.Linear'>\n",
      "<class 'tuple'>\n",
      "<class 'tuple'>\n"
     ]
    }
   ],
   "source": [
    "out.backward()"
   ]
  },
  {
   "cell_type": "markdown",
   "metadata": {},
   "source": [
    "## 6) Remove Hook & Check"
   ]
  },
  {
   "cell_type": "code",
   "execution_count": 6,
   "metadata": {
    "collapsed": true
   },
   "outputs": [],
   "source": [
    "model.remove_hook()\n",
    "\n",
    "x = Variable(torch.ones(batch_size,1),requires_grad=True)\n",
    "out = model(x)\n",
    "out = torch.sum(out)\n",
    "out.backward()"
   ]
  }
 ],
 "metadata": {
  "kernelspec": {
   "display_name": "Python 3",
   "language": "python",
   "name": "python3"
  },
  "language_info": {
   "codemirror_mode": {
    "name": "ipython",
    "version": 3
   },
   "file_extension": ".py",
   "mimetype": "text/x-python",
   "name": "python",
   "nbconvert_exporter": "python",
   "pygments_lexer": "ipython3",
   "version": "3.6.3"
  }
 },
 "nbformat": 4,
 "nbformat_minor": 2
}
