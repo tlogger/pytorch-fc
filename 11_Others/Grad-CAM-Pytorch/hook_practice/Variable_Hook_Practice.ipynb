{
 "cells": [
  {
   "cell_type": "markdown",
   "metadata": {},
   "source": [
    "# What is hook in Pytorch ? - Variable\n"
   ]
  },
  {
   "cell_type": "markdown",
   "metadata": {},
   "source": [
    "## Variable\n",
    "\n",
    "\n",
    "- torch.autograd.Variable.register_hook\n",
    "\n",
    "http://pytorch.org/docs/0.3.1/autograd.html?highlight=register_hook#torch.autograd.Variable.register_hook\n",
    "\n",
    "### 1) Import Required Libraries"
   ]
  },
  {
   "cell_type": "code",
   "execution_count": 1,
   "metadata": {
    "collapsed": true
   },
   "outputs": [],
   "source": [
    "import torch\n",
    "import torch.nn as nn\n",
    "from torch.autograd import Variable"
   ]
  },
  {
   "cell_type": "markdown",
   "metadata": {},
   "source": [
    "## 2) Define Class\n",
    "\n",
    "- Define Model\n",
    "- Initialize Weights\n",
    "- Define Hook Funciton\n",
    "- Define Hook Remove Function\n",
    "- Register Hook at Desired Location when Forwarding"
   ]
  },
  {
   "cell_type": "code",
   "execution_count": 2,
   "metadata": {},
   "outputs": [],
   "source": [
    "class Linear(nn.Module):\n",
    "    def __init__(self,feature_list):\n",
    "        super(Linear,self).__init__()\n",
    "        self.feature_list = feature_list\n",
    "        self.layers = []\n",
    "        \n",
    "        # Define Layers\n",
    "        for i in range(len(feature_list)-1):\n",
    "            self.layers.append(nn.Linear(self.feature_list[i],self.feature_list[i+1]))\n",
    "        self.total = nn.ModuleList(self.layers)\n",
    "        \n",
    "        # Initialize Weights to 1 in order to check gradients easily.\n",
    "        for m in self.modules():\n",
    "            if isinstance(m, nn.Linear):\n",
    "                m.weight.data.fill_(1)\n",
    "                m.bias.data.fill_(0)\n",
    "    \n",
    "    # define hook \n",
    "    # if you uncomment 3rd line, gradients will be doubled.\n",
    "    def hook(self,grad):\n",
    "        print(self,grad)\n",
    "        #return 2*grad\n",
    "    \n",
    "    # Once a hook is registered, it stays until explicitly removed.\n",
    "    def remove_hook(self):\n",
    "        self.hook.remove()\n",
    "    \n",
    "    # register_hook is applied to Variable\n",
    "    # so it should be registered on a Variable, not nn.Module\n",
    "    def forward(self,x,hook_layer):\n",
    "        out = x\n",
    "        for idx,layer in enumerate(self.total):\n",
    "            out = layer(out)\n",
    "            if idx == hook_layer:\n",
    "                self.hook = out.register_hook(self.hook)\n",
    "        return out"
   ]
  },
  {
   "cell_type": "markdown",
   "metadata": {},
   "source": [
    "## 3) Create Instance & Check"
   ]
  },
  {
   "cell_type": "code",
   "execution_count": 3,
   "metadata": {},
   "outputs": [
    {
     "name": "stdout",
     "output_type": "stream",
     "text": [
      "Linear(\n",
      "  (total): ModuleList(\n",
      "    (0): Linear(in_features=1, out_features=2, bias=True)\n",
      "    (1): Linear(in_features=2, out_features=4, bias=True)\n",
      "    (2): Linear(in_features=4, out_features=8, bias=True)\n",
      "  )\n",
      ")\n"
     ]
    }
   ],
   "source": [
    "feature_list = [1,2,4,8]\n",
    "model = Linear(feature_list)\n",
    "print(model)"
   ]
  },
  {
   "cell_type": "markdown",
   "metadata": {},
   "source": [
    "## 4) Forward a Variable & Register hook"
   ]
  },
  {
   "cell_type": "code",
   "execution_count": 4,
   "metadata": {},
   "outputs": [],
   "source": [
    "x = Variable(torch.ones(1),requires_grad=True)\n",
    "out = model(x,hook_layer=2)\n",
    "out = torch.sum(out)"
   ]
  },
  {
   "cell_type": "markdown",
   "metadata": {},
   "source": [
    "## 5) Hook called with Backward"
   ]
  },
  {
   "cell_type": "code",
   "execution_count": 5,
   "metadata": {
    "scrolled": true
   },
   "outputs": [
    {
     "name": "stdout",
     "output_type": "stream",
     "text": [
      "Linear(\n",
      "  (total): ModuleList(\n",
      "    (0): Linear(in_features=1, out_features=2, bias=True)\n",
      "    (1): Linear(in_features=2, out_features=4, bias=True)\n",
      "    (2): Linear(in_features=4, out_features=8, bias=True)\n",
      "  )\n",
      ") Variable containing:\n",
      " 1\n",
      " 1\n",
      " 1\n",
      " 1\n",
      " 1\n",
      " 1\n",
      " 1\n",
      " 1\n",
      "[torch.FloatTensor of size 8]\n",
      "\n"
     ]
    }
   ],
   "source": [
    "out.backward()\n",
    "\n",
    "# hook stays until explicitly removed.\n",
    "model.remove_hook()"
   ]
  },
  {
   "cell_type": "markdown",
   "metadata": {},
   "source": [
    "## 6) Check Gradient of Leaf Variable"
   ]
  },
  {
   "cell_type": "code",
   "execution_count": 6,
   "metadata": {},
   "outputs": [
    {
     "data": {
      "text/plain": [
       "Variable containing:\n",
       " 64\n",
       "[torch.FloatTensor of size 1]"
      ]
     },
     "execution_count": 6,
     "metadata": {},
     "output_type": "execute_result"
    }
   ],
   "source": [
    "# if hook function returns modified gradient, this will also affected.\n",
    "# 64 without returning gradient, 128 with returning 2*grad\n",
    "x.grad"
   ]
  }
 ],
 "metadata": {
  "kernelspec": {
   "display_name": "Python 3",
   "language": "python",
   "name": "python3"
  },
  "language_info": {
   "codemirror_mode": {
    "name": "ipython",
    "version": 3
   },
   "file_extension": ".py",
   "mimetype": "text/x-python",
   "name": "python",
   "nbconvert_exporter": "python",
   "pygments_lexer": "ipython3",
   "version": "3.6.3"
  }
 },
 "nbformat": 4,
 "nbformat_minor": 2
}
