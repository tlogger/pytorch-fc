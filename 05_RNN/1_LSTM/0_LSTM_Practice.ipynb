{
 "cells": [
  {
   "cell_type": "markdown",
   "metadata": {},
   "source": [
    "# LSTM Practice\n",
    "## 1) Import required libraries"
   ]
  },
  {
   "cell_type": "code",
   "execution_count": 1,
   "metadata": {
    "collapsed": true
   },
   "outputs": [],
   "source": [
    "import torch\n",
    "import torch.nn as nn\n",
    "from torch.autograd import Variable"
   ]
  },
  {
   "cell_type": "markdown",
   "metadata": {},
   "source": [
    "### 2) Example"
   ]
  },
  {
   "cell_type": "code",
   "execution_count": 2,
   "metadata": {},
   "outputs": [
    {
     "data": {
      "text/plain": [
       "(torch.Size([5, 1, 3]),\n",
       " torch.Size([5, 1, 4]),\n",
       " torch.Size([2, 1, 4]),\n",
       " torch.Size([2, 1, 4]))"
      ]
     },
     "execution_count": 2,
     "metadata": {},
     "output_type": "execute_result"
    }
   ],
   "source": [
    "rnn = nn.LSTM(3, 4, 2) # input_size, hidden_size, num_layers\n",
    "input = Variable(torch.randn(5, 1, 3)) # seq_len(timestamp), batch, input_size\n",
    "h0 = Variable(torch.randn(2, 1, 4)) # num_layers * num_directions, batch, hidden_size\n",
    "c0 = Variable(torch.randn(2, 1, 4)) # num_layers * num_directions, batch, hidden_size\n",
    "output, (hidden,cell) = rnn(input, (h0, c0))\n",
    "\n",
    "input.size(),output.size(), hidden.size(), cell.size()"
   ]
  },
  {
   "cell_type": "markdown",
   "metadata": {},
   "source": [
    "### 3) Batch First"
   ]
  },
  {
   "cell_type": "code",
   "execution_count": 3,
   "metadata": {},
   "outputs": [
    {
     "data": {
      "text/plain": [
       "(torch.Size([4, 1, 3]),\n",
       " torch.Size([4, 1, 5]),\n",
       " torch.Size([2, 4, 5]),\n",
       " torch.Size([2, 4, 5]))"
      ]
     },
     "execution_count": 3,
     "metadata": {},
     "output_type": "execute_result"
    }
   ],
   "source": [
    "rnn = nn.LSTM(3, 5, 2, batch_first=True)\n",
    "input = Variable(torch.randn(4, 1, 3)) # batch, seq_len, hidden_size\n",
    "h0 = Variable(torch.randn(2, 4, 5))\n",
    "c0 = Variable(torch.randn(2, 4, 5))\n",
    "output, (hidden, cell) = rnn(input, (h0, c0))\n",
    "\n",
    "input.size(),output.size(), hidden.size(), cell.size()"
   ]
  },
  {
   "cell_type": "markdown",
   "metadata": {},
   "source": [
    "### 4) Using Parameters"
   ]
  },
  {
   "cell_type": "code",
   "execution_count": 4,
   "metadata": {},
   "outputs": [
    {
     "data": {
      "text/plain": [
       "(torch.Size([3, 5, 7]),\n",
       " torch.Size([3, 5, 4]),\n",
       " torch.Size([2, 3, 4]),\n",
       " torch.Size([2, 3, 4]))"
      ]
     },
     "execution_count": 4,
     "metadata": {},
     "output_type": "execute_result"
    }
   ],
   "source": [
    "batch_size = 3\n",
    "input_size = 7\n",
    "hidden_size = 4\n",
    "seq_len = 5\n",
    "num_layers = 2\n",
    "\n",
    "rnn = nn.LSTM(input_size, hidden_size, num_layers, batch_first=True)\n",
    "input = Variable(torch.randn(batch_size, seq_len, input_size))\n",
    "h0 = Variable(torch.randn(num_layers, batch_size, hidden_size))\n",
    "c0 = Variable(torch.randn(num_layers, batch_size, hidden_size))\n",
    "output, (hidden, cell) = rnn(input, (h0, c0))\n",
    "\n",
    "input.size(),output.size(),hidden.size(), cell.size()"
   ]
  }
 ],
 "metadata": {
  "kernelspec": {
   "display_name": "Python 3",
   "language": "python",
   "name": "python3"
  },
  "language_info": {
   "codemirror_mode": {
    "name": "ipython",
    "version": 3
   },
   "file_extension": ".py",
   "mimetype": "text/x-python",
   "name": "python",
   "nbconvert_exporter": "python",
   "pygments_lexer": "ipython3",
   "version": "3.6.2"
  }
 },
 "nbformat": 4,
 "nbformat_minor": 1
}
