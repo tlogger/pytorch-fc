{
 "cells": [
  {
   "cell_type": "markdown",
   "metadata": {},
   "source": [
    "# Embedding Practice\n",
    "\n",
    "torch.nn.Embedding(num_embeddings, embedding_dim)\n",
    "\n",
    "## 1. Import Required Libraries"
   ]
  },
  {
   "cell_type": "code",
   "execution_count": null,
   "metadata": {
    "collapsed": true
   },
   "outputs": [],
   "source": [
    "import torch\n",
    "import torch.nn as nn\n",
    "from torch.autograd import Variable"
   ]
  },
  {
   "cell_type": "markdown",
   "metadata": {},
   "source": [
    "## 2. Prepare Data"
   ]
  },
  {
   "cell_type": "code",
   "execution_count": 21,
   "metadata": {},
   "outputs": [],
   "source": [
    "a = Variable(torch.LongTensor([0,0,0,1]))\n",
    "b = Variable(torch.LongTensor([3]))\n",
    "\n",
    "a_ = Variable(torch.LongTensor([[0,0,0,1],[1,0,0,0],[0,1,0,0],[0,0,1,0]]))\n",
    "b_ = Variable(torch.LongTensor([3,0,1,2]))"
   ]
  },
  {
   "cell_type": "markdown",
   "metadata": {},
   "source": [
    "## 3. Create Embedding Instance\n",
    "\n",
    "Embedding을 사용하면 one-hot vector를 사용하지 않아도 됨"
   ]
  },
  {
   "cell_type": "code",
   "execution_count": 23,
   "metadata": {},
   "outputs": [
    {
     "data": {
      "text/plain": [
       "(torch.Size([4, 5]),\n",
       " torch.Size([1, 5]),\n",
       " torch.Size([4, 4, 5]),\n",
       " torch.Size([4, 5]))"
      ]
     },
     "execution_count": 23,
     "metadata": {},
     "output_type": "execute_result"
    }
   ],
   "source": [
    "embedder = nn.Embedding(num_embeddings=4,embedding_dim=5)\n",
    "\n",
    "embedder(a).size(), embedder(b).size(), embedder(a_).size(), embedder(b_).size()"
   ]
  }
 ],
 "metadata": {
  "kernelspec": {
   "display_name": "Python 3",
   "language": "python",
   "name": "python3"
  },
  "language_info": {
   "codemirror_mode": {
    "name": "ipython",
    "version": 3
   },
   "file_extension": ".py",
   "mimetype": "text/x-python",
   "name": "python",
   "nbconvert_exporter": "python",
   "pygments_lexer": "ipython3",
   "version": "3.6.2"
  }
 },
 "nbformat": 4,
 "nbformat_minor": 2
}
