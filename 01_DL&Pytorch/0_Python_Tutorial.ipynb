{
 "cells": [
  {
   "cell_type": "markdown",
   "metadata": {},
   "source": [
    "# Python Tutorial\n",
    "\n",
    "- Hello World!\n",
    "- Variables and Types\n",
    "- Arithmetic Operations\n",
    "- List\n",
    "- Dictionary\n",
    "- Loop\n",
    "- Condition\n",
    "- Function\n",
    "- Class and Objects\n",
    "\n",
    "## 1. Hello World!"
   ]
  },
  {
   "cell_type": "code",
   "execution_count": 1,
   "metadata": {},
   "outputs": [
    {
     "name": "stdout",
     "output_type": "stream",
     "text": [
      "Hello World!\n"
     ]
    }
   ],
   "source": [
    "print(\"Hello World!\")"
   ]
  },
  {
   "cell_type": "markdown",
   "metadata": {},
   "source": [
    "## 2. Variables and Types"
   ]
  },
  {
   "cell_type": "code",
   "execution_count": 2,
   "metadata": {},
   "outputs": [
    {
     "name": "stdout",
     "output_type": "stream",
     "text": [
      "2 <class 'int'>\n",
      "\n",
      "2.0 <class 'float'>\n",
      "\n",
      "Pytorch <class 'str'>\n",
      "\n",
      "4.0 <class 'float'>\n",
      "\n",
      "2 Pytorch <class 'str'>\n",
      "\n"
     ]
    }
   ],
   "source": [
    "a = 2\n",
    "print(a,type(a),end=\"\\n\\n\")\n",
    "\n",
    "b = 2.0\n",
    "print(b,type(b),end=\"\\n\\n\")\n",
    "\n",
    "c = \"Pytorch\"\n",
    "print(c,type(c),end=\"\\n\\n\")\n",
    "\n",
    "d = a+b\n",
    "print(d,type(d),end=\"\\n\\n\")\n",
    "\n",
    "e = str(a)+\" \"+c\n",
    "print(e,type(e),end=\"\\n\\n\")"
   ]
  },
  {
   "cell_type": "markdown",
   "metadata": {},
   "source": [
    "## 3. Arithmetic Operations"
   ]
  },
  {
   "cell_type": "code",
   "execution_count": 3,
   "metadata": {},
   "outputs": [
    {
     "name": "stdout",
     "output_type": "stream",
     "text": [
      "3\n",
      "-1\n",
      "6\n",
      "0.6666666666666666\n",
      "1\n",
      "8\n"
     ]
    }
   ],
   "source": [
    "a=1\n",
    "b=2\n",
    "c=3\n",
    "\n",
    "print(a+b)\n",
    "print(a-b)\n",
    "print(b*c)\n",
    "print(b/c)\n",
    "print(c//b)\n",
    "print(b**c)"
   ]
  },
  {
   "cell_type": "markdown",
   "metadata": {},
   "source": [
    "## 4. List"
   ]
  },
  {
   "cell_type": "code",
   "execution_count": 4,
   "metadata": {},
   "outputs": [
    {
     "name": "stdout",
     "output_type": "stream",
     "text": [
      "[1, 2, 3]\n",
      "[1, 2, 3, 4]\n",
      "[1, 2, 3, 4, 'abc']\n",
      "[1, 2, 3, 4]\n",
      "[1, 2, 3, 4]\n",
      "[1, 2, 3]\n"
     ]
    }
   ],
   "source": [
    "list_1 = [1,2,3]\n",
    "print(list_1)\n",
    "\n",
    "list_1.append(4)\n",
    "print(list_1)\n",
    "\n",
    "list_1.append(\"abc\")\n",
    "print(list_1)\n",
    "\n",
    "# index\n",
    "print(list_1[:-1])\n",
    "\n",
    "del list_1[-1]\n",
    "print(list_1)\n",
    "\n",
    "list_1.pop()\n",
    "print(list_1)"
   ]
  },
  {
   "cell_type": "markdown",
   "metadata": {},
   "source": [
    "## 5. Dictionary"
   ]
  },
  {
   "cell_type": "code",
   "execution_count": 5,
   "metadata": {},
   "outputs": [
    {
     "name": "stdout",
     "output_type": "stream",
     "text": [
      "{'python': 0, 'java': 1, 'c++': 2, 'ruby': 3, 'html': 4, 'key': 'value'}\n",
      "2\n",
      "{'python': 0, 'java': 1, 'c++': 2, 'ruby': 3, 'html': 4}\n",
      "{'python': 0, 'java': 1, 'c++': 2, 'ruby': 3, 'html': 4, 'pytorch': 5}\n"
     ]
    }
   ],
   "source": [
    "dict_1 = {\n",
    "    \"python\": 0,\n",
    "    \"java\":1,\n",
    "    \"c++\":2,\n",
    "    \"ruby\":3,\n",
    "    \"html\":4,\n",
    "    \"key\":\"value\",\n",
    "}\n",
    "\n",
    "print(dict_1)\n",
    "print(dict_1[\"c++\"])\n",
    "\n",
    "del dict_1[\"key\"]\n",
    "print(dict_1)\n",
    "\n",
    "dict_1[\"pytorch\"]=5\n",
    "print(dict_1)"
   ]
  },
  {
   "cell_type": "markdown",
   "metadata": {},
   "source": [
    "## 6. Loop"
   ]
  },
  {
   "cell_type": "code",
   "execution_count": 6,
   "metadata": {},
   "outputs": [
    {
     "name": "stdout",
     "output_type": "stream",
     "text": [
      "0\n",
      "1\n",
      "2\n",
      "3\n",
      "4\n",
      "\n",
      "\n",
      "0\n",
      "-1\n",
      "-2\n",
      "-3\n",
      "-4\n"
     ]
    }
   ],
   "source": [
    "for i in range(5):\n",
    "    print(i)\n",
    "\n",
    "print(\"\\n\")\n",
    "for i in range(0,-5,-1):\n",
    "    print(i)"
   ]
  },
  {
   "cell_type": "code",
   "execution_count": 7,
   "metadata": {},
   "outputs": [
    {
     "name": "stdout",
     "output_type": "stream",
     "text": [
      "[1, 2, 3]\n",
      "1\n",
      "2\n",
      "3\n",
      "\n",
      "\n",
      "{'python': 0, 'java': 1, 'c++': 2, 'ruby': 3, 'html': 4, 'pytorch': 5}\n",
      "python 0\n",
      "java 1\n",
      "c++ 2\n",
      "ruby 3\n",
      "html 4\n",
      "pytorch 5\n"
     ]
    }
   ],
   "source": [
    "print(list_1)\n",
    "for i in list_1:\n",
    "    print(i)\n",
    "\n",
    "print(\"\\n\")\n",
    "print(dict_1)\n",
    "for key in dict_1:\n",
    "    print(key,dict_1[key])"
   ]
  },
  {
   "cell_type": "code",
   "execution_count": 15,
   "metadata": {},
   "outputs": [
    {
     "name": "stdout",
     "output_type": "stream",
     "text": [
      "0\n",
      "1\n",
      "2\n",
      "3\n",
      "4\n",
      "5\n",
      "6\n",
      "7\n",
      "8\n",
      "9\n"
     ]
    }
   ],
   "source": [
    "a=0\n",
    "while(a<10):\n",
    "    print(a)\n",
    "    a+=1"
   ]
  },
  {
   "cell_type": "markdown",
   "metadata": {},
   "source": [
    "## 7. Condition"
   ]
  },
  {
   "cell_type": "code",
   "execution_count": 9,
   "metadata": {},
   "outputs": [
    {
     "name": "stdout",
     "output_type": "stream",
     "text": [
      "True\n",
      "False\n",
      "False\n",
      "True\n"
     ]
    }
   ],
   "source": [
    "print(2==2)\n",
    "print(2==3)\n",
    "print(2!=2)\n",
    "print(2!=3)"
   ]
  },
  {
   "cell_type": "code",
   "execution_count": 14,
   "metadata": {},
   "outputs": [
    {
     "name": "stdout",
     "output_type": "stream",
     "text": [
      "{'python': 0, 'java': 1, 'c++': 2, 'ruby': 3, 'html': 4, 'pytorch': 5}\n",
      "not ruby\n",
      "not ruby\n",
      "not ruby\n",
      "3\n",
      "not ruby\n",
      "not ruby\n"
     ]
    }
   ],
   "source": [
    "print(dict_1)\n",
    "for key in dict_1:\n",
    "    if key==\"ruby\":\n",
    "        print(dict_1[key])\n",
    "    else:\n",
    "        print(\"not ruby\")"
   ]
  },
  {
   "cell_type": "markdown",
   "metadata": {},
   "source": [
    "## 8. Function"
   ]
  },
  {
   "cell_type": "code",
   "execution_count": 26,
   "metadata": {},
   "outputs": [
    {
     "name": "stdout",
     "output_type": "stream",
     "text": [
      "120\n"
     ]
    }
   ],
   "source": [
    "def factorial(num):\n",
    "    result = 1\n",
    "    for i in range(1,num+1):\n",
    "        result = result*i\n",
    "    return result\n",
    "\n",
    "print(factorial(5))"
   ]
  },
  {
   "cell_type": "markdown",
   "metadata": {},
   "source": [
    "## 9. Class and Objects"
   ]
  },
  {
   "cell_type": "code",
   "execution_count": 32,
   "metadata": {},
   "outputs": [
    {
     "name": "stdout",
     "output_type": "stream",
     "text": [
      "Anakin Skywalker\n",
      "R2D2\n",
      "10\n"
     ]
    }
   ],
   "source": [
    "class Jedi(object):\n",
    "    def __init__(self,name,droid):\n",
    "        self.name = name\n",
    "        self.droid = droid\n",
    "        self.exp = 0\n",
    "        \n",
    "    def train(self):\n",
    "        self.exp += 10\n",
    "\n",
    "anakin = Jedi(\"Anakin Skywalker\",\"R2D2\")\n",
    "anakin.train()\n",
    "\n",
    "print(anakin.name)\n",
    "print(anakin.droid)\n",
    "print(anakin.exp)"
   ]
  }
 ],
 "metadata": {
  "kernelspec": {
   "display_name": "Python 3",
   "language": "python",
   "name": "python3"
  },
  "language_info": {
   "codemirror_mode": {
    "name": "ipython",
    "version": 3
   },
   "file_extension": ".py",
   "mimetype": "text/x-python",
   "name": "python",
   "nbconvert_exporter": "python",
   "pygments_lexer": "ipython3",
   "version": "3.6.2"
  }
 },
 "nbformat": 4,
 "nbformat_minor": 2
}
