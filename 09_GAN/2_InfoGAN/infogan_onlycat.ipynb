{
 "cells": [
  {
   "cell_type": "markdown",
   "metadata": {},
   "source": [
    "# InfoGAN \n",
    "\n",
    "- Only with discrete category\n",
    "\n",
    "<img src=\"./infogan.png\" width=\"400\">"
   ]
  },
  {
   "cell_type": "markdown",
   "metadata": {},
   "source": [
    "## 1. Import required libraries"
   ]
  },
  {
   "cell_type": "code",
   "execution_count": 1,
   "metadata": {
    "collapsed": true
   },
   "outputs": [],
   "source": [
    "import torch\n",
    "import torch.nn as nn\n",
    "import torch.utils as utils\n",
    "import torch.nn.init as init\n",
    "from torch.autograd import Variable\n",
    "import torchvision.datasets as dset\n",
    "import torchvision.utils as v_utils\n",
    "import torchvision.transforms as transforms\n",
    "import numpy as np\n",
    "import matplotlib.pyplot as plt\n",
    "from collections import OrderedDict"
   ]
  },
  {
   "cell_type": "markdown",
   "metadata": {},
   "source": [
    "## 2. Hyperparameter & Data setting"
   ]
  },
  {
   "cell_type": "code",
   "execution_count": 2,
   "metadata": {
    "collapsed": true
   },
   "outputs": [],
   "source": [
    "# Set Hyperparameters\n",
    "\n",
    "epoch = 200\n",
    "batch_size = 512\n",
    "learning_rate = 0.0002\n",
    "num_gpus = 1\n",
    "discrete_latent_size = 10\n",
    "\n",
    "# Download Data & Set Data Loader(input pipeline)\n",
    "\n",
    "mnist_train = dset.MNIST(\"./\", train=True, transform=transforms.ToTensor(), target_transform=None, download=True)\n",
    "train_loader = torch.utils.data.DataLoader(dataset=mnist_train,batch_size=batch_size,shuffle=True,drop_last=True)"
   ]
  },
  {
   "cell_type": "markdown",
   "metadata": {},
   "source": [
    "## 3. Label into one-hot vector"
   ]
  },
  {
   "cell_type": "code",
   "execution_count": 3,
   "metadata": {
    "collapsed": true
   },
   "outputs": [],
   "source": [
    "def int_to_onehot(z_label):\n",
    "    one_hot_array = np.zeros(shape=[len(z_label), discrete_latent_size])\n",
    "    one_hot_array[np.arange(len(z_label)), z_label] = 1\n",
    "    return one_hot_array"
   ]
  },
  {
   "cell_type": "markdown",
   "metadata": {},
   "source": [
    "## 4. Generator"
   ]
  },
  {
   "cell_type": "code",
   "execution_count": 4,
   "metadata": {
    "collapsed": true
   },
   "outputs": [],
   "source": [
    "class Generator(nn.Module):\n",
    "    def __init__(self):\n",
    "        super(Generator,self).__init__()\n",
    "        self.layer1 = nn.Sequential(\n",
    "                    nn.Linear(110,1024),\n",
    "                    nn.BatchNorm1d(1024),\n",
    "                    nn.ReLU(),               \n",
    "                    nn.Linear(1024,7*7*256),               \n",
    "                    nn.BatchNorm1d(7*7*256),\n",
    "                    nn.ReLU(), \n",
    "            )              \n",
    "        self.layer2 = nn.Sequential(OrderedDict([\n",
    "                ('conv1', nn.ConvTranspose2d(256,128,3,2,1,1)), # [batch,256,7,7] -> [batch,128,14,14]\n",
    "                ('bn1', nn.BatchNorm2d(128)),    \n",
    "                ('relu1', nn.LeakyReLU()),\n",
    "                ('conv2', nn.ConvTranspose2d(128,64,3,1,1)),    # [batch,128,14,14] -> [batch,64,14,14]\n",
    "                ('bn2', nn.BatchNorm2d(64)),    \n",
    "                ('relu2', nn.LeakyReLU()),\n",
    "                \n",
    "            ]))\n",
    "        self.layer3 = nn.Sequential(OrderedDict([\n",
    "                ('conv3',nn.ConvTranspose2d(64,32,3,1,1)),      # [batch,64,14,14] -> [batch,32,14,14]\n",
    "                ('bn3',nn.BatchNorm2d(32)),    \n",
    "                ('relu3',nn.LeakyReLU()),\n",
    "                ('conv4',nn.ConvTranspose2d(32,1,3,2,1,1)),     # [batch,32,14,14] -> [batch,1,28,28]\n",
    "                ('tanh',nn.Tanh())\n",
    "            ]))\n",
    "\n",
    "    def forward(self,z):\n",
    "        out = self.layer1(z)\n",
    "        out = out.view(batch_size//num_gpus,256,7,7)\n",
    "        out = self.layer2(out)\n",
    "        out = self.layer3(out)\n",
    "        return out\n"
   ]
  },
  {
   "cell_type": "markdown",
   "metadata": {},
   "source": [
    "## 5. Discriminator"
   ]
  },
  {
   "cell_type": "code",
   "execution_count": 5,
   "metadata": {
    "collapsed": true
   },
   "outputs": [],
   "source": [
    "class Discriminator(nn.Module):\n",
    "    def __init__(self):\n",
    "        super(Discriminator,self).__init__()\n",
    "        self.layer1 = nn.Sequential(OrderedDict([\n",
    "                ('conv1',nn.Conv2d(1,16,3,padding=1)),            # [batch,1,28,28] -> [batch,16,28,28]\n",
    "                ('relu1',nn.LeakyReLU()),\n",
    "                ('conv2',nn.Conv2d(16,32,3,stride=2,padding=1)),  # [batch,16,28,28] -> [batch,32,28,28]\n",
    "                ('bn2',nn.BatchNorm2d(32)),    \n",
    "                ('relu2',nn.LeakyReLU()),\n",
    "                \n",
    "            ]))\n",
    "        self.layer2 = nn.Sequential(OrderedDict([\n",
    "                ('conv3',nn.Conv2d(32,64,3,padding=1)),           # [batch,32,14,14] -> [batch,64,14,14] \n",
    "                ('relu3',nn.LeakyReLU()),\n",
    "                ('bn3',nn.BatchNorm2d(64)),\n",
    "                ('conv4',nn.Conv2d(64,128,3,stride=2,padding=1)), # [batch,64,7,7] -> [batch,128,7,7]\n",
    "                ('bn4',nn.BatchNorm2d(128)),    \n",
    "                ('relu4',nn.LeakyReLU())\n",
    "            ]))\n",
    "        self.fc = nn.Sequential(\n",
    "                nn.Linear(128*7*7,1),\n",
    "                nn.Sigmoid()\n",
    "            )\n",
    "        self.fc2 = nn.Sequential(\n",
    "                nn.Linear(128*7*7,10),\n",
    "                nn.Sigmoid(),\n",
    "            )\n",
    "\n",
    "    def forward(self,x):\n",
    "        out = self.layer1(x)\n",
    "        out = self.layer2(out)\n",
    "        out = out.view(batch_size//num_gpus, -1)\n",
    "        output = self.fc(out)\n",
    "        label = self.fc2(out)\n",
    "        return output,label"
   ]
  },
  {
   "cell_type": "markdown",
   "metadata": {},
   "source": [
    "## 6. Instance & Label on GPU"
   ]
  },
  {
   "cell_type": "code",
   "execution_count": 6,
   "metadata": {
    "collapsed": true
   },
   "outputs": [],
   "source": [
    "# put class instance on multi gpu\n",
    "\n",
    "generator = nn.DataParallel(Generator(),device_ids=[0])\n",
    "discriminator = nn.DataParallel(Discriminator(),device_ids=[0])\n",
    "\n",
    "# put labels on multi gpu\n",
    "\n",
    "ones_label = Variable(torch.ones(batch_size,1)).cuda()\n",
    "zeros_label = Variable(torch.zeros(batch_size,1)).cuda()"
   ]
  },
  {
   "cell_type": "markdown",
   "metadata": {},
   "source": [
    "## 7. Loss function & Optimizer"
   ]
  },
  {
   "cell_type": "code",
   "execution_count": 7,
   "metadata": {
    "collapsed": true
   },
   "outputs": [],
   "source": [
    "gan_loss_func = nn.BCELoss()\n",
    "cat_loss_func = nn.CrossEntropyLoss()\n",
    "\n",
    "gen_optim = torch.optim.Adam(generator.parameters(), lr=learning_rate,betas=(0.5,0.999))\n",
    "dis_optim = torch.optim.Adam(discriminator.parameters(), lr=learning_rate,betas=(0.5,0.999))"
   ]
  },
  {
   "cell_type": "markdown",
   "metadata": {},
   "source": [
    "## 8. Model restore"
   ]
  },
  {
   "cell_type": "code",
   "execution_count": 8,
   "metadata": {},
   "outputs": [
    {
     "name": "stdout",
     "output_type": "stream",
     "text": [
      "\n",
      "--------model restored--------\n",
      "\n"
     ]
    }
   ],
   "source": [
    "try:\n",
    "    generator, discriminator = torch.load('./model/infogan.pkl')\n",
    "    print(\"\\n--------model restored--------\\n\")\n",
    "except:\n",
    "    print(\"\\n--------model not restored--------\\n\")\n",
    "    pass"
   ]
  },
  {
   "cell_type": "code",
   "execution_count": null,
   "metadata": {
    "collapsed": true
   },
   "outputs": [],
   "source": [
    "def image_check(gen_fake):\n",
    "    img = gen_fake.data.numpy()\n",
    "    for i in range(10):\n",
    "        plt.imshow(img[i][0],cmap='gray')\n",
    "        plt.show()"
   ]
  },
  {
   "cell_type": "markdown",
   "metadata": {},
   "source": [
    "## 9. Train Model"
   ]
  },
  {
   "cell_type": "code",
   "execution_count": null,
   "metadata": {
    "scrolled": true
   },
   "outputs": [
    {
     "name": "stderr",
     "output_type": "stream",
     "text": [
      "/home/gunho/anaconda3/envs/pytorch/lib/python3.6/site-packages/torch/serialization.py:147: UserWarning: Couldn't retrieve source code for container of type Generator. It won't be checked for correctness upon loading.\n",
      "  \"type \" + obj.__name__ + \". It won't be checked \"\n",
      "/home/gunho/anaconda3/envs/pytorch/lib/python3.6/site-packages/torch/serialization.py:147: UserWarning: Couldn't retrieve source code for container of type Discriminator. It won't be checked for correctness upon loading.\n",
      "  \"type \" + obj.__name__ + \". It won't be checked \"\n"
     ]
    },
    {
     "name": "stdout",
     "output_type": "stream",
     "text": [
      "0th iteration gen_loss: \n",
      " 2.8823\n",
      "[torch.cuda.FloatTensor of size 1 (GPU 0)]\n",
      " dis_loss: \n",
      " 0.9947\n",
      "[torch.cuda.FloatTensor of size 1 (GPU 0)]\n",
      "\n",
      "0th iteration gen_loss: \n",
      " 2.8807\n",
      "[torch.cuda.FloatTensor of size 1 (GPU 0)]\n",
      " dis_loss: \n",
      " 0.9511\n",
      "[torch.cuda.FloatTensor of size 1 (GPU 0)]\n",
      "\n"
     ]
    }
   ],
   "source": [
    "for i in range(epoch):\n",
    "    for j,(image,_) in enumerate(train_loader):\n",
    "        \n",
    "        # put image & label on gpu\n",
    "        image = Variable(image).cuda()\n",
    "    \n",
    "        #################\n",
    "        ##  generator  ##\n",
    "        #################\n",
    "        \n",
    "        for k in range(2):\n",
    "            z_random = np.random.rand(batch_size,100)\n",
    "            z_label = np.random.randint(0, 10, size=batch_size)\n",
    "            \n",
    "            # change first 10 labels from random to 0~9          \n",
    "            for l in range(10):\n",
    "                z_label[l]=l\n",
    "            \n",
    "            # preprocess z\n",
    "            z_variable = Variable(torch.from_numpy(z_label)).cuda()\n",
    "            z_label_onehot = int_to_onehot(z_label)\n",
    "            z_concat = np.concatenate([z_random, z_label_onehot], axis=1)\n",
    "            \n",
    "            z = Variable(torch.from_numpy(z_concat).type_as(torch.FloatTensor())).cuda()\n",
    "            z_label_onehot = Variable(torch.from_numpy(z_label_onehot).type_as(torch.FloatTensor())).cuda()\n",
    "\n",
    "            # calculate loss and apply gradients\n",
    "            # gen_loss = gan loss(fake) + categorical loss\n",
    "            \n",
    "            gen_optim.zero_grad()\n",
    "            gen_fake = generator.forward(z)\n",
    "            dis_fake,label_fake = discriminator.forward(gen_fake)\n",
    "            gen_loss = torch.sum(gan_loss_func(dis_fake,ones_label)) \\\n",
    "                     + torch.sum(cat_loss_func(label_fake,z_variable))\n",
    "                \n",
    "            gen_loss.backward(retain_graph=True)\n",
    "            gen_optim.step()\n",
    "\n",
    "        #####################    \n",
    "        ##  discriminator  ##\n",
    "        #####################\n",
    "        \n",
    "        # dis_loss = gan_loss(fake & real) + categorical loss\n",
    "        \n",
    "        dis_optim.zero_grad()\n",
    "        dis_real, label_real = discriminator.forward(image)\n",
    "        dis_loss = torch.sum(gan_loss_func(dis_fake,zeros_label))\\\n",
    "                 + torch.sum(gan_loss_func(dis_real,ones_label))\n",
    "                 #+ discrete_latent_size * torch.sum(loss_func(label_real,z_label_onehot))\n",
    "                \n",
    "        dis_loss.backward()\n",
    "        dis_optim.step()\n",
    "    \n",
    "        # model save\n",
    "        if j % 10 == 0:\n",
    "            torch.save([generator,discriminator],'./model/infogan.pkl')\n",
    "\n",
    "            # print loss and image save\n",
    "            print(\"{}th iteration gen_loss: {} dis_loss: {}\".format(i,gen_loss.data,dis_loss.data))\n",
    "            v_utils.save_image(gen_fake.data[0:20],\"./result/gen_{}_{}.png\".format(i,j), nrow=5)\n",
    "            \n",
    "    image_check(gen_fake.cpu())\n"
   ]
  }
 ],
 "metadata": {
  "kernelspec": {
   "display_name": "Python 3",
   "language": "python",
   "name": "python3"
  },
  "language_info": {
   "codemirror_mode": {
    "name": "ipython",
    "version": 3
   },
   "file_extension": ".py",
   "mimetype": "text/x-python",
   "name": "python",
   "nbconvert_exporter": "python",
   "pygments_lexer": "ipython3",
   "version": "3.6.2"
  }
 },
 "nbformat": 4,
 "nbformat_minor": 1
}
